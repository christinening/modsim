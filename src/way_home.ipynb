{
 "cells": [
  {
   "cell_type": "markdown",
   "metadata": {},
   "source": [
    "# Way Home"
   ]
  },
  {
   "cell_type": "code",
   "execution_count": 102,
   "metadata": {},
   "outputs": [],
   "source": [
    "import numpy as np\n",
    "import random\n",
    "import matplotlib.pyplot as plt\n",
    "import seaborn as sns"
   ]
  },
  {
   "cell_type": "markdown",
   "metadata": {},
   "source": [
    "## Set Simulation Params and Create Grid"
   ]
  },
  {
   "cell_type": "code",
   "execution_count": 119,
   "metadata": {},
   "outputs": [],
   "source": [
    "drunk_velocity = 1 # in m/s \n",
    "#car_velocitiy = 10 \n",
    "car_intensitiy = 0.05 # probability that a car occurs on a lane \n",
    "\n",
    "# how many lanes has one direction? one lane is 1m\n",
    "street_lanes = 2 \n",
    "street_length = 50\n"
   ]
  },
  {
   "cell_type": "code",
   "execution_count": 139,
   "metadata": {},
   "outputs": [],
   "source": [
    "def create_grid(street_lanes=2, street_length=50):\n",
    "    street_width = 3 + 2*street_lanes \n",
    "    grid = np.zeros((street_width, street_length))\n",
    "\n",
    "    # compute sideways - start and end row as well as between the directions\n",
    "    sideways = [0, street_lanes+1, grid.shape[0]-1]\n",
    "    for i in sideways:\n",
    "        grid[i,] = 0.25\n",
    "\n",
    "\n",
    "    # randomly place the person\n",
    "    grid[0, random.randint(0, street_length)] = 1.0\n",
    "    \n",
    "    return grid, sideways\n",
    "grid, sideways = create_grid(street_lanes, street_length)"
   ]
  },
  {
   "cell_type": "code",
   "execution_count": 140,
   "metadata": {},
   "outputs": [
    {
     "data": {
      "text/plain": [
       "Text(0.5, 1.0, 'Initial Grid')"
      ]
     },
     "execution_count": 140,
     "metadata": {},
     "output_type": "execute_result"
    },
    {
     "data": {
      "image/png": "[encoded data removed]",
      "text/plain": [
       "<Figure size 864x288 with 2 Axes>"
      ]
     },
     "metadata": {
      "needs_background": "light"
     },
     "output_type": "display_data"
    }
   ],
   "source": [
    "plt.figure(figsize=(12,4))\n",
    "sns.heatmap(grid, cmap=\"viridis_r\", linewidths=.005, vmin=0, vmax=1)\n",
    "plt.title(\"Initial Grid\")"
   ]
  },
  {
   "cell_type": "markdown",
   "metadata": {},
   "source": [
    "## _A_\n",
    "- t=1=constant\n",
    "- change in direction is always $\\frac{1}{4}$ probability left, $\\frac{1}{4}$ right, $\\frac{1}{2}$ forward"
   ]
  },
  {
   "cell_type": "markdown",
   "metadata": {},
   "source": [
    "### static cars\n",
    "Cars do appear on a lane or not - velocity is not considered. If the drunk is on a lane where a car appears, he's dead."
   ]
  },
  {
   "cell_type": "code",
   "execution_count": 189,
   "metadata": {},
   "outputs": [],
   "source": [
    "def model_step(grid, sideways=[0,3,6],\n",
    "               t_constant=True,\n",
    "               drunk_velocity=1, car_intensity=0.05, car_velocity=None,\n",
    "               plot_progress=True):\n",
    "    \n",
    "    # get persons coordinates\n",
    "    y,x = np.unravel_index(grid.argmax(), grid.shape)\n",
    "    \n",
    "    # roll persons movement\n",
    "    direction = (0, 0)\n",
    "    p_dir = np.random.uniform(0,1,1)\n",
    "    if p_dir < 0.25:\n",
    "        direction = (0, -1)\n",
    "    elif 0.25 <= p_dir < 0.5:\n",
    "        direction = (0, 1)\n",
    "    elif 0.5 <= p_dir :\n",
    "        direction = (1, 0)\n",
    "    \n",
    "    # make cars appear\n",
    "    for lane in range(0, grid.shape[0]):\n",
    "        if lane not in sideways:\n",
    "            car_on_lane = (np.random.uniform(0,1,1) <0.05).item()\n",
    "            if car_on_lane:\n",
    "                grid[lane,] = 0.6\n",
    "            if not car_on_lane:\n",
    "                grid[lane,] = 0\n",
    "    \n",
    "    grid[y+direction[0], x+direction[1]] = 1.0\n",
    "    grid[y, x] = grid[y, 0] # reset old coordinate \n",
    "    \n",
    "    if plot_progress:\n",
    "        plt.figure(figsize=(12,4))\n",
    "        sns.heatmap(grid, cmap=\"viridis_r\", linewidths=.005, vmin=0, vmax=1)\n",
    "        plt.title(\"Initial Grid\")\n",
    "    return grid"
   ]
  },
  {
   "cell_type": "code",
   "execution_count": 201,
   "metadata": {},
   "outputs": [],
   "source": [
    "grid, sideways = create_grid(street_lanes, street_length)"
   ]
  },
  {
   "cell_type": "code",
   "execution_count": 202,
   "metadata": {},
   "outputs": [
    {
     "data": {
      "image/png": "[encoded data removed]",
      "text/plain": [
       "<Figure size 864x288 with 2 Axes>"
      ]
     },
     "metadata": {
      "needs_background": "light"
     },
     "output_type": "display_data"
    }
   ],
   "source": [
    "g = model_step(grid, sideways)\n"
   ]
  },
  {
   "cell_type": "markdown",
   "metadata": {},
   "source": [
    "## _B_\n",
    "- t=1=constant\n",
    "- new direction = old direction +$\\alpha$ with $\\alpha$ is uniformly distributed in $[-2/3\\pi; +2/3\\pi]$"
   ]
  },
  {
   "cell_type": "code",
   "execution_count": null,
   "metadata": {},
   "outputs": [],
   "source": []
  },
  {
   "cell_type": "markdown",
   "metadata": {},
   "source": [
    "## C\n",
    "-  t is exponentially distributed with intensity 1/time unit\n",
    "- new direction = old direction +$\\alpha$ with $\\alpha$ is uniformly distributed in $[-2/3\\pi; +2/3\\pi]$"
   ]
  },
  {
   "cell_type": "code",
   "execution_count": null,
   "metadata": {},
   "outputs": [],
   "source": []
  }
 ],
 "metadata": {
  "kernelspec": {
   "display_name": "Python sna",
   "language": "python",
   "name": "sna"
  },
  "language_info": {
   "codemirror_mode": {
    "name": "ipython",
    "version": 3
   },
   "file_extension": ".py",
   "mimetype": "text/x-python",
   "name": "python",
   "nbconvert_exporter": "python",
   "pygments_lexer": "ipython3",
   "version": "3.8.5"
  }
 },
 "nbformat": 4,
 "nbformat_minor": 4
}
